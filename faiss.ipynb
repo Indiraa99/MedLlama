{
 "cells": [
  {
   "cell_type": "code",
   "execution_count": 2,
   "metadata": {},
   "outputs": [],
   "source": [
    "import faiss\n",
    "import numpy as np\n",
    "import pandas as pd\n",
    "\n",
    "# Load embeddings from your CSV or PKL\n",
    "pkl_path = \"C:\\\\HAP774\\\\New folder (2)\\\\MedLlama_Chatbot\\\\cleaned_data_with_embeddings.pkl\"  # Replace with your file path\n",
    "df = pd.read_pickle(pkl_path)\n",
    "\n",
    "# Extract embeddings into a numpy array\n",
    "embeddings = np.vstack(df[\"embeddings\"].values)"
   ]
  },
  {
   "cell_type": "code",
   "execution_count": 3,
   "metadata": {},
   "outputs": [
    {
     "name": "stdout",
     "output_type": "stream",
     "text": [
      "Number of embeddings in the index: 256916\n"
     ]
    }
   ],
   "source": [
    "# Define a FAISS index\n",
    "index = faiss.IndexFlatL2(embeddings.shape[1])  # Use L2 distance\n",
    "index.add(embeddings)  # Add embeddings to the index\n",
    "print(f\"Number of embeddings in the index: {index.ntotal}\")\n"
   ]
  },
  {
   "cell_type": "code",
   "execution_count": 4,
   "metadata": {},
   "outputs": [],
   "source": [
    "# Save the FAISS index for later use\n",
    "faiss.write_index(index, \"faiss_index.idx\")"
   ]
  },
  {
   "cell_type": "code",
   "execution_count": 5,
   "metadata": {},
   "outputs": [
    {
     "name": "stderr",
     "output_type": "stream",
     "text": [
      "c:\\HAP774\\New folder (2)\\MedLlama_Chatbot\\venv\\Lib\\site-packages\\tqdm\\auto.py:21: TqdmWarning: IProgress not found. Please update jupyter and ipywidgets. See https://ipywidgets.readthedocs.io/en/stable/user_install.html\n",
      "  from .autonotebook import tqdm as notebook_tqdm\n"
     ]
    }
   ],
   "source": [
    "from sentence_transformers import SentenceTransformer\n",
    "\n",
    "# Load FAISS index and the embedding model\n",
    "index = faiss.read_index(\"faiss_index.idx\")\n",
    "model = SentenceTransformer(\"all-MiniLM-L6-v2\")"
   ]
  },
  {
   "cell_type": "code",
   "execution_count": 6,
   "metadata": {},
   "outputs": [],
   "source": [
    "# Function to handle queries\n",
    "def chatbot_query(user_query, df, top_k=5):\n",
    "    # Convert query to embedding\n",
    "    query_embedding = model.encode(user_query).reshape(1, -1)\n",
    "    \n",
    "    # Search the FAISS index\n",
    "    distances, indices = index.search(query_embedding, top_k)\n",
    "\n",
    "    # Retrieve top results\n",
    "    results = []\n",
    "    for i, idx in enumerate(indices[0]):\n",
    "        result = {\n",
    "            \"rank\": i + 1,\n",
    "            \"description\": df.iloc[idx][\"Description\"],\n",
    "            \"patient\": df.iloc[idx][\"Patient\"],\n",
    "            \"response\": df.iloc[idx][\"Doctor\"],\n",
    "            \"distance\": distances[0][i],\n",
    "        }\n",
    "        results.append(result)\n",
    "    \n",
    "    return results"
   ]
  },
  {
   "cell_type": "code",
   "execution_count": null,
   "metadata": {},
   "outputs": [
    {
     "name": "stdout",
     "output_type": "stream",
     "text": [
      "Rank: 1, Distance: 0.69089674949646\n",
      "Question: Q. What should I do for persistent headache?\n",
      "Patient Query: Hi doctor, Initially, my problem started with a headache, and I felt shaky and dizzy the next day. I felt the same for around four days and went to the hospital. They said that I was dehydrated. But they did not give me anything for it and sent me home. I still have a headache, shaky, dizzy and feel almost worse. What should I do?\n",
      "Response: Hi. I am sorry to hear about your persistent troubles. For further information consult an internal medicine physician online\n",
      "\n",
      "Rank: 2, Distance: 0.700675368309021\n",
      "Question: Suggest treatment for severe headache for past 2 months\n",
      "Patient Query: I have been having a sharp pain in my head for the past month-2 months, and I thought it was maybe because I was dehydrated, but continuing to drink water and stay hydrated didn t help, neither did Tylenol, or Aleve, and Advil Doesn t work for me for anything, so I didn t bother trying that. So do you have any idea what it could be, or what else I could try?\n",
      "Response: Hello and Welcome to ‘Ask A Doctor’ service. I have reviewed your query and here is my advice. As per your history, it may be stress induced or migraine. You can take tab, tylenol. If pain is severe do CT scan brain after consultation. Let me know whether it is associated with nausea, blackout etc ? Take care. Hope I have answered your query. Let me know if I can assist you further. Regards, Dr. Shyam B. Kale\n",
      "\n",
      "Rank: 3, Distance: 0.7300819158554077\n",
      "Question: Q. I was punched in the back of my head and suffering from continuous headache now. Kindly help.\n",
      "Patient Query: Hello doctor,I am 21 years old female. I punched in the back of my head three months ago, and I have been having headaches, dizziness, and hard time catching my balance when I stand up. I daily wake up and go to bed with a headache. I have tried Tylenol, and nothing seems to help. I am not taking any medications.\n",
      "Response: Hello. I went through your post, as you have mentioned in your post that you were hit on the back of the head and now have giddiness and difficulty in balancing, I would suggest, 1. You will need an MRI brain and cervical spine to role out any abnormality of the brain stem and cervical spine due to trauma. 2. The imbalance is caused by either the problem of middle ear or cerebellum which can be differentiated by clinical examination, so consult a neurologist. 3. Meanwhile, you can start tablet Betahistiine 16 mg twice times a day that will help. I hope you are satisfied with the answer.\n",
      "\n",
      "Rank: 4, Distance: 0.7377530932426453\n",
      "Question: Suggest home remedy for massive headache\n",
      "Patient Query: I went out this weekend and ended up doing meth with the people I was with.  I have been doing it for 3 days. I have drank a lot of water and have had a snack here n there.  I have a massive headache and I don't know what to do..I realize not doing meth in the first place would have prevented this pain I am in. Can I take excedrine? Anything I can do to reduce the pain I'm in?  At home remedies?\n",
      "Response: Thankyou for the QuestionRemedy for headache Garlic – Inhalation.•     Boil water in a pot and add fresh ground garlic (3-4 cloves).•     Lean your head over the bowl and cover with a cotton towel.•     Start the inhalation. Initially you may be feeling uncomfortable, but the steam will be helpfull to decrease pain..Also I would suggest you to get your B.P checked and rule out other causes of headache (sinusitis,weather change,flu,stress),then you can be treated accordingly.Hope my answer will be helpfull for you.Plz feed back again.Dr.Maheshwari\n",
      "\n",
      "Rank: 5, Distance: 0.757459282875061\n",
      "Question: Q. I have a constant headache after a head injury. What to do?\n",
      "Patient Query: Hello doctor, I had a head injury last week. I started doing normal activities after five days, but now I have a constant headache. I have an exam later this month. What should I do?\n",
      "Response: Hi. I read your query and understand your concerns. Thanks and regards. Revert with more information to a neurologist online\n",
      "\n"
     ]
    }
   ],
   "source": [
    "# Test the chatbot\n",
    "query = \"I have a headache, what can i do?\"\n",
    "results = chatbot_query(query, df)\n",
    "for res in results:\n",
    "    print(f\"Rank: {res['rank']}, Distance: {res['distance']}\")\n",
    "    print(f\"Question: {res['description']}\")\n",
    "    print(f\"Patient Query: {res['patient']}\")\n",
    "    print(f\"Response: {res['response']}\\n\")"
   ]
  }
 ],
 "metadata": {
  "kernelspec": {
   "display_name": "venv",
   "language": "python",
   "name": "python3"
  },
  "language_info": {
   "codemirror_mode": {
    "name": "ipython",
    "version": 3
   },
   "file_extension": ".py",
   "mimetype": "text/x-python",
   "name": "python",
   "nbconvert_exporter": "python",
   "pygments_lexer": "ipython3",
   "version": "3.11.4"
  }
 },
 "nbformat": 4,
 "nbformat_minor": 2
}
